{
 "cells": [
  {
   "cell_type": "code",
   "execution_count": 91,
   "metadata": {},
   "outputs": [],
   "source": [
    "import pickle\n",
    "import numpy as np\n",
    "import tensorflow as tf\n",
    "from datetime import datetime, timedelta\n",
    "from yahoo_fin.stock_info import get_data"
   ]
  },
  {
   "cell_type": "code",
   "execution_count": 86,
   "metadata": {},
   "outputs": [
    {
     "name": "stdout",
     "output_type": "stream",
     "text": [
      "WARNING:tensorflow:Layer lstm_1 will not use cuDNN kernels since it doesn't meet the criteria. It will use a generic GPU kernel as fallback when running on GPU.\n",
      "WARNING:tensorflow:Layer lstm_1 will not use cuDNN kernels since it doesn't meet the criteria. It will use a generic GPU kernel as fallback when running on GPU.\n",
      "WARNING:tensorflow:Layer lstm_5 will not use cuDNN kernels since it doesn't meet the criteria. It will use a generic GPU kernel as fallback when running on GPU.\n"
     ]
    }
   ],
   "source": [
    "btc_model = tf.keras.models.load_model('weights/model_wf BTC.h5')\n",
    "eth_model = tf.keras.models.load_model('weights/model_wf ETH.h5')\n",
    "usdt_model = tf.keras.models.load_model('weights/model_wf USDT.h5')\n",
    "\n",
    "btc_scaler = pickle.load(open('weights/scaler BTC.pkl', 'rb'))\n",
    "eth_scaler = pickle.load(open('weights/scaler ETH.pkl', 'rb'))\n",
    "usdt_scaler = pickle.load(open('weights/scaler USDT.pkl', 'rb'))"
   ]
  },
  {
   "cell_type": "code",
   "execution_count": 98,
   "metadata": {},
   "outputs": [],
   "source": [
    "COIN = 'USDT'"
   ]
  },
  {
   "cell_type": "code",
   "execution_count": 99,
   "metadata": {},
   "outputs": [
    {
     "data": {
      "text/plain": [
       "'10/30/2022'"
      ]
     },
     "execution_count": 99,
     "metadata": {},
     "output_type": "execute_result"
    }
   ],
   "source": [
    "today = datetime.today().strftime('%m/%d/%Y')\n",
    "today_minus_30_days = (datetime.today() - timedelta(days=30)).strftime('%m/%d/%Y')\n",
    "today_minus_30_days"
   ]
  },
  {
   "cell_type": "code",
   "execution_count": 100,
   "metadata": {},
   "outputs": [
    {
     "data": {
      "text/html": [
       "<div>\n",
       "<style scoped>\n",
       "    .dataframe tbody tr th:only-of-type {\n",
       "        vertical-align: middle;\n",
       "    }\n",
       "\n",
       "    .dataframe tbody tr th {\n",
       "        vertical-align: top;\n",
       "    }\n",
       "\n",
       "    .dataframe thead th {\n",
       "        text-align: right;\n",
       "    }\n",
       "</style>\n",
       "<table border=\"1\" class=\"dataframe\">\n",
       "  <thead>\n",
       "    <tr style=\"text-align: right;\">\n",
       "      <th></th>\n",
       "      <th>open</th>\n",
       "      <th>high</th>\n",
       "      <th>low</th>\n",
       "      <th>close</th>\n",
       "    </tr>\n",
       "  </thead>\n",
       "  <tbody>\n",
       "    <tr>\n",
       "      <th>2022-11-14</th>\n",
       "      <td>0.998750</td>\n",
       "      <td>0.999134</td>\n",
       "      <td>0.998576</td>\n",
       "      <td>0.999013</td>\n",
       "    </tr>\n",
       "    <tr>\n",
       "      <th>2022-11-15</th>\n",
       "      <td>0.999021</td>\n",
       "      <td>0.999243</td>\n",
       "      <td>0.998756</td>\n",
       "      <td>0.999130</td>\n",
       "    </tr>\n",
       "    <tr>\n",
       "      <th>2022-11-16</th>\n",
       "      <td>0.999136</td>\n",
       "      <td>0.999406</td>\n",
       "      <td>0.998988</td>\n",
       "      <td>0.999229</td>\n",
       "    </tr>\n",
       "    <tr>\n",
       "      <th>2022-11-17</th>\n",
       "      <td>0.999231</td>\n",
       "      <td>0.999645</td>\n",
       "      <td>0.999203</td>\n",
       "      <td>0.999402</td>\n",
       "    </tr>\n",
       "    <tr>\n",
       "      <th>2022-11-18</th>\n",
       "      <td>0.999396</td>\n",
       "      <td>0.999468</td>\n",
       "      <td>0.999080</td>\n",
       "      <td>0.999163</td>\n",
       "    </tr>\n",
       "    <tr>\n",
       "      <th>2022-11-19</th>\n",
       "      <td>0.999175</td>\n",
       "      <td>0.999292</td>\n",
       "      <td>0.999046</td>\n",
       "      <td>0.999102</td>\n",
       "    </tr>\n",
       "    <tr>\n",
       "      <th>2022-11-20</th>\n",
       "      <td>0.999087</td>\n",
       "      <td>0.999207</td>\n",
       "      <td>0.998770</td>\n",
       "      <td>0.998982</td>\n",
       "    </tr>\n",
       "    <tr>\n",
       "      <th>2022-11-21</th>\n",
       "      <td>0.998995</td>\n",
       "      <td>0.999169</td>\n",
       "      <td>0.998646</td>\n",
       "      <td>0.999089</td>\n",
       "    </tr>\n",
       "    <tr>\n",
       "      <th>2022-11-22</th>\n",
       "      <td>0.999081</td>\n",
       "      <td>0.999309</td>\n",
       "      <td>0.998874</td>\n",
       "      <td>0.999157</td>\n",
       "    </tr>\n",
       "    <tr>\n",
       "      <th>2022-11-23</th>\n",
       "      <td>0.999166</td>\n",
       "      <td>0.999235</td>\n",
       "      <td>0.998954</td>\n",
       "      <td>0.999194</td>\n",
       "    </tr>\n",
       "    <tr>\n",
       "      <th>2022-11-24</th>\n",
       "      <td>0.999191</td>\n",
       "      <td>0.999507</td>\n",
       "      <td>0.999123</td>\n",
       "      <td>0.999421</td>\n",
       "    </tr>\n",
       "    <tr>\n",
       "      <th>2022-11-25</th>\n",
       "      <td>0.999417</td>\n",
       "      <td>0.999590</td>\n",
       "      <td>0.999404</td>\n",
       "      <td>0.999578</td>\n",
       "    </tr>\n",
       "    <tr>\n",
       "      <th>2022-11-26</th>\n",
       "      <td>0.999577</td>\n",
       "      <td>0.999626</td>\n",
       "      <td>0.999507</td>\n",
       "      <td>0.999574</td>\n",
       "    </tr>\n",
       "    <tr>\n",
       "      <th>2022-11-27</th>\n",
       "      <td>0.999568</td>\n",
       "      <td>0.999654</td>\n",
       "      <td>0.999503</td>\n",
       "      <td>0.999604</td>\n",
       "    </tr>\n",
       "    <tr>\n",
       "      <th>2022-11-29</th>\n",
       "      <td>0.999681</td>\n",
       "      <td>0.999729</td>\n",
       "      <td>0.999606</td>\n",
       "      <td>0.999712</td>\n",
       "    </tr>\n",
       "  </tbody>\n",
       "</table>\n",
       "</div>"
      ],
      "text/plain": [
       "                open      high       low     close\n",
       "2022-11-14  0.998750  0.999134  0.998576  0.999013\n",
       "2022-11-15  0.999021  0.999243  0.998756  0.999130\n",
       "2022-11-16  0.999136  0.999406  0.998988  0.999229\n",
       "2022-11-17  0.999231  0.999645  0.999203  0.999402\n",
       "2022-11-18  0.999396  0.999468  0.999080  0.999163\n",
       "2022-11-19  0.999175  0.999292  0.999046  0.999102\n",
       "2022-11-20  0.999087  0.999207  0.998770  0.998982\n",
       "2022-11-21  0.998995  0.999169  0.998646  0.999089\n",
       "2022-11-22  0.999081  0.999309  0.998874  0.999157\n",
       "2022-11-23  0.999166  0.999235  0.998954  0.999194\n",
       "2022-11-24  0.999191  0.999507  0.999123  0.999421\n",
       "2022-11-25  0.999417  0.999590  0.999404  0.999578\n",
       "2022-11-26  0.999577  0.999626  0.999507  0.999574\n",
       "2022-11-27  0.999568  0.999654  0.999503  0.999604\n",
       "2022-11-29  0.999681  0.999729  0.999606  0.999712"
      ]
     },
     "execution_count": 100,
     "metadata": {},
     "output_type": "execute_result"
    }
   ],
   "source": [
    "df_coin = get_data(f\"{COIN}-USD\", start_date=today_minus_30_days, end_date=today, index_as_date = True, interval=\"1d\")\n",
    "df_coin = df_coin[['open','high','low','close']]\n",
    "df_coin = df_coin.dropna()\n",
    "df_coin = df_coin.tail(15)\n",
    "df_coin"
   ]
  },
  {
   "cell_type": "code",
   "execution_count": 102,
   "metadata": {},
   "outputs": [
    {
     "data": {
      "text/plain": [
       "0.9994244314523638"
      ]
     },
     "execution_count": 102,
     "metadata": {},
     "output_type": "execute_result"
    }
   ],
   "source": [
    "Xinf = df_coin.values\n",
    "prediction_dummy = np.zeros((1, 4))\n",
    "if COIN == 'BTC':\n",
    "    Xinf = btc_scaler.transform(Xinf).reshape(1,15,4)\n",
    "    prediction = btc_model.predict(Xinf)\n",
    "    prediction_dummy[0,-1] = prediction[0,-1]\n",
    "    prediction = btc_scaler.inverse_transform(prediction_dummy)\n",
    "    prediction = prediction[0,-1]\n",
    "\n",
    "elif COIN == 'ETH':\n",
    "    Xinf = eth_scaler.transform(Xinf).reshape(1,15,4)\n",
    "    prediction = eth_model.predict(Xinf)\n",
    "    prediction_dummy[0,-1] = prediction[0,-1]\n",
    "    prediction = eth_scaler.inverse_transform(prediction_dummy)\n",
    "    prediction = prediction[0,-1]\n",
    "\n",
    "elif COIN == 'USDT':\n",
    "    Xinf = usdt_scaler.transform(Xinf).reshape(1,15,4)\n",
    "    prediction = usdt_model.predict(Xinf)\n",
    "    prediction_dummy[0,-1] = prediction[0,-1]\n",
    "    prediction = usdt_scaler.inverse_transform(prediction_dummy)\n",
    "    prediction = prediction[0,-1]\n",
    "\n",
    "prediction"
   ]
  },
  {
   "cell_type": "code",
   "execution_count": null,
   "metadata": {},
   "outputs": [],
   "source": []
  },
  {
   "cell_type": "code",
   "execution_count": null,
   "metadata": {},
   "outputs": [],
   "source": []
  }
 ],
 "metadata": {
  "kernelspec": {
   "display_name": "Python 3 (ipykernel)",
   "language": "python",
   "name": "python3"
  },
  "language_info": {
   "codemirror_mode": {
    "name": "ipython",
    "version": 3
   },
   "file_extension": ".py",
   "mimetype": "text/x-python",
   "name": "python",
   "nbconvert_exporter": "python",
   "pygments_lexer": "ipython3",
   "version": "3.7.16"
  },
  "vscode": {
   "interpreter": {
    "hash": "d4b521e29a846470c96e928a1c4aafac58a12234cdaa98f9ca60bc431873fee6"
   }
  }
 },
 "nbformat": 4,
 "nbformat_minor": 2
}
