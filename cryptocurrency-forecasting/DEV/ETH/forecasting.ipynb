{
 "cells": [
  {
   "cell_type": "code",
   "execution_count": 2,
   "metadata": {},
   "outputs": [],
   "source": [
    "import os\n",
    "import math\n",
    "import pickle\n",
    "import numpy as np\n",
    "import pandas as pd\n",
    "import datetime as dt\n",
    "import plotly.express as px\n",
    "import matplotlib.pyplot as plt\n",
    "import plotly.graph_objects as go\n",
    "\n",
    "from itertools import cycle\n",
    "from sklearn.utils import shuffle\n",
    "from plotly.subplots import make_subplots\n",
    "from sklearn.preprocessing import MinMaxScaler\n",
    "from sklearn.metrics import mean_squared_error, mean_absolute_error, explained_variance_score, \\\n",
    "                            r2_score, mean_poisson_deviance, mean_gamma_deviance, accuracy_score \n",
    "\n",
    "import tensorflow as tf\n",
    "from tensorflow.keras.models import Sequential\n",
    "from tensorflow.keras.layers import Dense, Dropout, LSTM"
   ]
  },
  {
   "cell_type": "markdown",
   "metadata": {},
   "source": [
    "# Without Features"
   ]
  },
  {
   "cell_type": "code",
   "execution_count": 22,
   "metadata": {},
   "outputs": [
    {
     "data": {
      "text/html": [
       "<div>\n",
       "<style scoped>\n",
       "    .dataframe tbody tr th:only-of-type {\n",
       "        vertical-align: middle;\n",
       "    }\n",
       "\n",
       "    .dataframe tbody tr th {\n",
       "        vertical-align: top;\n",
       "    }\n",
       "\n",
       "    .dataframe thead th {\n",
       "        text-align: right;\n",
       "    }\n",
       "</style>\n",
       "<table border=\"1\" class=\"dataframe\">\n",
       "  <thead>\n",
       "    <tr style=\"text-align: right;\">\n",
       "      <th></th>\n",
       "      <th>Date</th>\n",
       "      <th>Close</th>\n",
       "    </tr>\n",
       "  </thead>\n",
       "  <tbody>\n",
       "    <tr>\n",
       "      <th>1150</th>\n",
       "      <td>2021-01-02</td>\n",
       "      <td>774.534973</td>\n",
       "    </tr>\n",
       "    <tr>\n",
       "      <th>1151</th>\n",
       "      <td>2021-01-03</td>\n",
       "      <td>975.507690</td>\n",
       "    </tr>\n",
       "    <tr>\n",
       "      <th>1152</th>\n",
       "      <td>2021-01-04</td>\n",
       "      <td>1040.233032</td>\n",
       "    </tr>\n",
       "    <tr>\n",
       "      <th>1153</th>\n",
       "      <td>2021-01-05</td>\n",
       "      <td>1100.006104</td>\n",
       "    </tr>\n",
       "    <tr>\n",
       "      <th>1154</th>\n",
       "      <td>2021-01-06</td>\n",
       "      <td>1207.112183</td>\n",
       "    </tr>\n",
       "    <tr>\n",
       "      <th>...</th>\n",
       "      <td>...</td>\n",
       "      <td>...</td>\n",
       "    </tr>\n",
       "    <tr>\n",
       "      <th>1801</th>\n",
       "      <td>2022-10-15</td>\n",
       "      <td>1274.871704</td>\n",
       "    </tr>\n",
       "    <tr>\n",
       "      <th>1802</th>\n",
       "      <td>2022-10-16</td>\n",
       "      <td>1306.296631</td>\n",
       "    </tr>\n",
       "    <tr>\n",
       "      <th>1803</th>\n",
       "      <td>2022-10-17</td>\n",
       "      <td>1331.713623</td>\n",
       "    </tr>\n",
       "    <tr>\n",
       "      <th>1804</th>\n",
       "      <td>2022-10-18</td>\n",
       "      <td>1310.447021</td>\n",
       "    </tr>\n",
       "    <tr>\n",
       "      <th>1805</th>\n",
       "      <td>2022-10-19</td>\n",
       "      <td>1297.278198</td>\n",
       "    </tr>\n",
       "  </tbody>\n",
       "</table>\n",
       "<p>656 rows × 2 columns</p>\n",
       "</div>"
      ],
      "text/plain": [
       "           Date        Close\n",
       "1150 2021-01-02   774.534973\n",
       "1151 2021-01-03   975.507690\n",
       "1152 2021-01-04  1040.233032\n",
       "1153 2021-01-05  1100.006104\n",
       "1154 2021-01-06  1207.112183\n",
       "...         ...          ...\n",
       "1801 2022-10-15  1274.871704\n",
       "1802 2022-10-16  1306.296631\n",
       "1803 2022-10-17  1331.713623\n",
       "1804 2022-10-18  1310.447021\n",
       "1805 2022-10-19  1297.278198\n",
       "\n",
       "[656 rows x 2 columns]"
      ]
     },
     "execution_count": 22,
     "metadata": {},
     "output_type": "execute_result"
    }
   ],
   "source": [
    "df_eth = pd.read_csv('ETH.csv')\n",
    "df_eth['Date'] = pd.to_datetime(df_eth['Date'])\n",
    "df_eth = df_eth[['Date','Close']]\n",
    "df_eth = df_eth[df_eth['Date'] > '2021-01-01']\n",
    "df_eth = df_eth.dropna()\n",
    "eth_stock = df_eth.copy()\n",
    "eth_stock"
   ]
  },
  {
   "cell_type": "code",
   "execution_count": 23,
   "metadata": {},
   "outputs": [],
   "source": [
    "del df_eth['Date']\n",
    "scaler = MinMaxScaler(feature_range=(0,1))\n",
    "df_eth = scaler.fit_transform(np.array(df_eth).reshape(-1,1))\n",
    "\n",
    "with open('scaler ETH.pkl', 'wb') as f:\n",
    "    pickle.dump(scaler, f)"
   ]
  },
  {
   "cell_type": "code",
   "execution_count": null,
   "metadata": {},
   "outputs": [],
   "source": [
    "# split dataset into train and test split\n",
    "training_size = int(len(df_eth)*0.8)\n",
    "test_size = len(df_eth) - training_size\n",
    "\n",
    "train_data, test_data = df_eth[0:training_size,:], df_eth[training_size:len(df_eth),:1]"
   ]
  },
  {
   "cell_type": "code",
   "execution_count": null,
   "metadata": {},
   "outputs": [],
   "source": [
    "def create_dataset(dataset, time_step=1):\n",
    "    dataX, dataY = [], []\n",
    "    for i in range(len(dataset)-time_step-1):\n",
    "        a = dataset[i:(i+time_step), 0]\n",
    "        dataX.append(a)\n",
    "        dataY.append(dataset[i + time_step, 0])\n",
    "    return np.array(dataX), np.array(dataY)"
   ]
  },
  {
   "cell_type": "code",
   "execution_count": null,
   "metadata": {},
   "outputs": [],
   "source": [
    "time_step = 15\n",
    "X_train_wof, y_train_wof = create_dataset(train_data, time_step)\n",
    "X_test_wof, y_test_wof = create_dataset(test_data, time_step)\n",
    "\n",
    "print(\"X_train: \", X_train_wof.shape)\n",
    "print(\"y_train: \", y_train_wof.shape)\n",
    "print(\"X_test: \", X_test_wof.shape)"
   ]
  },
  {
   "cell_type": "code",
   "execution_count": null,
   "metadata": {},
   "outputs": [],
   "source": [
    "X_train_wof = X_train_wof.reshape(X_train_wof.shape[0],X_train_wof.shape[1] , 1)\n",
    "X_test_wof = X_test_wof.reshape(X_test_wof.shape[0],X_test_wof.shape[1] , 1)\n",
    "\n",
    "print(\"X_train: \", X_train_wof.shape)\n",
    "print(\"X_test: \", X_test_wof.shape)"
   ]
  },
  {
   "cell_type": "code",
   "execution_count": 15,
   "metadata": {},
   "outputs": [
    {
     "name": "stdout",
     "output_type": "stream",
     "text": [
      "16/16 [==============================] - 1s 60ms/step - loss: 737034.4375 - val_loss: 1903708.1250\n",
      "Epoch 32/200\n",
      "16/16 [==============================] - 1s 57ms/step - loss: 736992.9375 - val_loss: 1904444.3750\n",
      "Epoch 33/200\n",
      "16/16 [==============================] - 1s 59ms/step - loss: 737159.9375 - val_loss: 1902613.3750\n",
      "Epoch 34/200\n",
      "16/16 [==============================] - 1s 58ms/step - loss: 737421.7500 - val_loss: 1892352.0000\n",
      "Epoch 35/200\n",
      "16/16 [==============================] - 1s 59ms/step - loss: 737239.6250 - val_loss: 1895096.8750\n",
      "Epoch 36/200\n",
      "16/16 [==============================] - 1s 57ms/step - loss: 737261.5000 - val_loss: 1894918.1250\n",
      "Epoch 37/200\n",
      "16/16 [==============================] - 1s 57ms/step - loss: 737133.1875 - val_loss: 1903608.3750\n",
      "Epoch 38/200\n",
      "16/16 [==============================] - 1s 56ms/step - loss: 736918.5000 - val_loss: 1905403.2500\n",
      "Epoch 39/200\n",
      "16/16 [==============================] - 1s 58ms/step - loss: 737255.1875 - val_loss: 1904153.3750\n",
      "Epoch 40/200\n",
      "16/16 [==============================] - 1s 59ms/step - loss: 736956.5000 - val_loss: 1905060.3750\n",
      "Epoch 41/200\n",
      " 3/16 [====>.........................] - ETA: 0s - loss: 836161.6875"
     ]
    },
    {
     "ename": "KeyboardInterrupt",
     "evalue": "",
     "output_type": "error",
     "traceback": [
      "\u001b[1;31m---------------------------------------------------------------------------\u001b[0m",
      "\u001b[1;31mKeyboardInterrupt\u001b[0m                         Traceback (most recent call last)",
      "\u001b[1;32mc:\\Projects\\private-projects\\PRO-OUTSOURCING\\FREELANCING-ML\\Darshana\\cryptocurrency-forecasting\\DEV\\ETH\\forecasting.ipynb Cell 9\u001b[0m in \u001b[0;36m<cell line: 5>\u001b[1;34m()\u001b[0m\n\u001b[0;32m      <a href='vscode-notebook-cell:/c%3A/Projects/private-projects/PRO-OUTSOURCING/FREELANCING-ML/Darshana/cryptocurrency-forecasting/DEV/ETH/forecasting.ipynb#X11sZmlsZQ%3D%3D?line=2'>3</a>\u001b[0m model_wof\u001b[39m.\u001b[39madd(Dense(\u001b[39m1\u001b[39m))\n\u001b[0;32m      <a href='vscode-notebook-cell:/c%3A/Projects/private-projects/PRO-OUTSOURCING/FREELANCING-ML/Darshana/cryptocurrency-forecasting/DEV/ETH/forecasting.ipynb#X11sZmlsZQ%3D%3D?line=3'>4</a>\u001b[0m model_wof\u001b[39m.\u001b[39mcompile(loss\u001b[39m=\u001b[39m\u001b[39m\"\u001b[39m\u001b[39mmean_squared_error\u001b[39m\u001b[39m\"\u001b[39m,optimizer\u001b[39m=\u001b[39m\u001b[39m\"\u001b[39m\u001b[39msgd\u001b[39m\u001b[39m\"\u001b[39m)\n\u001b[1;32m----> <a href='vscode-notebook-cell:/c%3A/Projects/private-projects/PRO-OUTSOURCING/FREELANCING-ML/Darshana/cryptocurrency-forecasting/DEV/ETH/forecasting.ipynb#X11sZmlsZQ%3D%3D?line=4'>5</a>\u001b[0m history \u001b[39m=\u001b[39m model_wof\u001b[39m.\u001b[39;49mfit(\n\u001b[0;32m      <a href='vscode-notebook-cell:/c%3A/Projects/private-projects/PRO-OUTSOURCING/FREELANCING-ML/Darshana/cryptocurrency-forecasting/DEV/ETH/forecasting.ipynb#X11sZmlsZQ%3D%3D?line=5'>6</a>\u001b[0m                     X_train_wof,\n\u001b[0;32m      <a href='vscode-notebook-cell:/c%3A/Projects/private-projects/PRO-OUTSOURCING/FREELANCING-ML/Darshana/cryptocurrency-forecasting/DEV/ETH/forecasting.ipynb#X11sZmlsZQ%3D%3D?line=6'>7</a>\u001b[0m                     y_train_wof,\n\u001b[0;32m      <a href='vscode-notebook-cell:/c%3A/Projects/private-projects/PRO-OUTSOURCING/FREELANCING-ML/Darshana/cryptocurrency-forecasting/DEV/ETH/forecasting.ipynb#X11sZmlsZQ%3D%3D?line=7'>8</a>\u001b[0m                     validation_data\u001b[39m=\u001b[39;49m(X_test_wof,y_test_wof),\n\u001b[0;32m      <a href='vscode-notebook-cell:/c%3A/Projects/private-projects/PRO-OUTSOURCING/FREELANCING-ML/Darshana/cryptocurrency-forecasting/DEV/ETH/forecasting.ipynb#X11sZmlsZQ%3D%3D?line=8'>9</a>\u001b[0m                     epochs\u001b[39m=\u001b[39;49m\u001b[39m200\u001b[39;49m,\n\u001b[0;32m     <a href='vscode-notebook-cell:/c%3A/Projects/private-projects/PRO-OUTSOURCING/FREELANCING-ML/Darshana/cryptocurrency-forecasting/DEV/ETH/forecasting.ipynb#X11sZmlsZQ%3D%3D?line=9'>10</a>\u001b[0m                     batch_size\u001b[39m=\u001b[39;49m\u001b[39m32\u001b[39;49m,\n\u001b[0;32m     <a href='vscode-notebook-cell:/c%3A/Projects/private-projects/PRO-OUTSOURCING/FREELANCING-ML/Darshana/cryptocurrency-forecasting/DEV/ETH/forecasting.ipynb#X11sZmlsZQ%3D%3D?line=10'>11</a>\u001b[0m                     verbose\u001b[39m=\u001b[39;49m\u001b[39m1\u001b[39;49m\n\u001b[0;32m     <a href='vscode-notebook-cell:/c%3A/Projects/private-projects/PRO-OUTSOURCING/FREELANCING-ML/Darshana/cryptocurrency-forecasting/DEV/ETH/forecasting.ipynb#X11sZmlsZQ%3D%3D?line=11'>12</a>\u001b[0m                     )\n\u001b[0;32m     <a href='vscode-notebook-cell:/c%3A/Projects/private-projects/PRO-OUTSOURCING/FREELANCING-ML/Darshana/cryptocurrency-forecasting/DEV/ETH/forecasting.ipynb#X11sZmlsZQ%3D%3D?line=12'>13</a>\u001b[0m model_wof\u001b[39m.\u001b[39mevaluate(X_test_wof, y_test_wof)\n",
      "File \u001b[1;32mc:\\Users\\Legion\\.conda\\envs\\tf26\\lib\\site-packages\\keras\\engine\\training.py:1184\u001b[0m, in \u001b[0;36mModel.fit\u001b[1;34m(self, x, y, batch_size, epochs, verbose, callbacks, validation_split, validation_data, shuffle, class_weight, sample_weight, initial_epoch, steps_per_epoch, validation_steps, validation_batch_size, validation_freq, max_queue_size, workers, use_multiprocessing)\u001b[0m\n\u001b[0;32m   1177\u001b[0m \u001b[39mwith\u001b[39;00m tf\u001b[39m.\u001b[39mprofiler\u001b[39m.\u001b[39mexperimental\u001b[39m.\u001b[39mTrace(\n\u001b[0;32m   1178\u001b[0m     \u001b[39m'\u001b[39m\u001b[39mtrain\u001b[39m\u001b[39m'\u001b[39m,\n\u001b[0;32m   1179\u001b[0m     epoch_num\u001b[39m=\u001b[39mepoch,\n\u001b[0;32m   1180\u001b[0m     step_num\u001b[39m=\u001b[39mstep,\n\u001b[0;32m   1181\u001b[0m     batch_size\u001b[39m=\u001b[39mbatch_size,\n\u001b[0;32m   1182\u001b[0m     _r\u001b[39m=\u001b[39m\u001b[39m1\u001b[39m):\n\u001b[0;32m   1183\u001b[0m   callbacks\u001b[39m.\u001b[39mon_train_batch_begin(step)\n\u001b[1;32m-> 1184\u001b[0m   tmp_logs \u001b[39m=\u001b[39m \u001b[39mself\u001b[39;49m\u001b[39m.\u001b[39;49mtrain_function(iterator)\n\u001b[0;32m   1185\u001b[0m   \u001b[39mif\u001b[39;00m data_handler\u001b[39m.\u001b[39mshould_sync:\n\u001b[0;32m   1186\u001b[0m     context\u001b[39m.\u001b[39masync_wait()\n",
      "File \u001b[1;32mc:\\Users\\Legion\\.conda\\envs\\tf26\\lib\\site-packages\\tensorflow\\python\\eager\\def_function.py:885\u001b[0m, in \u001b[0;36mFunction.__call__\u001b[1;34m(self, *args, **kwds)\u001b[0m\n\u001b[0;32m    882\u001b[0m compiler \u001b[39m=\u001b[39m \u001b[39m\"\u001b[39m\u001b[39mxla\u001b[39m\u001b[39m\"\u001b[39m \u001b[39mif\u001b[39;00m \u001b[39mself\u001b[39m\u001b[39m.\u001b[39m_jit_compile \u001b[39melse\u001b[39;00m \u001b[39m\"\u001b[39m\u001b[39mnonXla\u001b[39m\u001b[39m\"\u001b[39m\n\u001b[0;32m    884\u001b[0m \u001b[39mwith\u001b[39;00m OptionalXlaContext(\u001b[39mself\u001b[39m\u001b[39m.\u001b[39m_jit_compile):\n\u001b[1;32m--> 885\u001b[0m   result \u001b[39m=\u001b[39m \u001b[39mself\u001b[39;49m\u001b[39m.\u001b[39;49m_call(\u001b[39m*\u001b[39;49margs, \u001b[39m*\u001b[39;49m\u001b[39m*\u001b[39;49mkwds)\n\u001b[0;32m    887\u001b[0m new_tracing_count \u001b[39m=\u001b[39m \u001b[39mself\u001b[39m\u001b[39m.\u001b[39mexperimental_get_tracing_count()\n\u001b[0;32m    888\u001b[0m without_tracing \u001b[39m=\u001b[39m (tracing_count \u001b[39m==\u001b[39m new_tracing_count)\n",
      "File \u001b[1;32mc:\\Users\\Legion\\.conda\\envs\\tf26\\lib\\site-packages\\tensorflow\\python\\eager\\def_function.py:917\u001b[0m, in \u001b[0;36mFunction._call\u001b[1;34m(self, *args, **kwds)\u001b[0m\n\u001b[0;32m    914\u001b[0m   \u001b[39mself\u001b[39m\u001b[39m.\u001b[39m_lock\u001b[39m.\u001b[39mrelease()\n\u001b[0;32m    915\u001b[0m   \u001b[39m# In this case we have created variables on the first call, so we run the\u001b[39;00m\n\u001b[0;32m    916\u001b[0m   \u001b[39m# defunned version which is guaranteed to never create variables.\u001b[39;00m\n\u001b[1;32m--> 917\u001b[0m   \u001b[39mreturn\u001b[39;00m \u001b[39mself\u001b[39;49m\u001b[39m.\u001b[39;49m_stateless_fn(\u001b[39m*\u001b[39;49margs, \u001b[39m*\u001b[39;49m\u001b[39m*\u001b[39;49mkwds)  \u001b[39m# pylint: disable=not-callable\u001b[39;00m\n\u001b[0;32m    918\u001b[0m \u001b[39melif\u001b[39;00m \u001b[39mself\u001b[39m\u001b[39m.\u001b[39m_stateful_fn \u001b[39mis\u001b[39;00m \u001b[39mnot\u001b[39;00m \u001b[39mNone\u001b[39;00m:\n\u001b[0;32m    919\u001b[0m   \u001b[39m# Release the lock early so that multiple threads can perform the call\u001b[39;00m\n\u001b[0;32m    920\u001b[0m   \u001b[39m# in parallel.\u001b[39;00m\n\u001b[0;32m    921\u001b[0m   \u001b[39mself\u001b[39m\u001b[39m.\u001b[39m_lock\u001b[39m.\u001b[39mrelease()\n",
      "File \u001b[1;32mc:\\Users\\Legion\\.conda\\envs\\tf26\\lib\\site-packages\\tensorflow\\python\\eager\\function.py:3039\u001b[0m, in \u001b[0;36mFunction.__call__\u001b[1;34m(self, *args, **kwargs)\u001b[0m\n\u001b[0;32m   3036\u001b[0m \u001b[39mwith\u001b[39;00m \u001b[39mself\u001b[39m\u001b[39m.\u001b[39m_lock:\n\u001b[0;32m   3037\u001b[0m   (graph_function,\n\u001b[0;32m   3038\u001b[0m    filtered_flat_args) \u001b[39m=\u001b[39m \u001b[39mself\u001b[39m\u001b[39m.\u001b[39m_maybe_define_function(args, kwargs)\n\u001b[1;32m-> 3039\u001b[0m \u001b[39mreturn\u001b[39;00m graph_function\u001b[39m.\u001b[39;49m_call_flat(\n\u001b[0;32m   3040\u001b[0m     filtered_flat_args, captured_inputs\u001b[39m=\u001b[39;49mgraph_function\u001b[39m.\u001b[39;49mcaptured_inputs)\n",
      "File \u001b[1;32mc:\\Users\\Legion\\.conda\\envs\\tf26\\lib\\site-packages\\tensorflow\\python\\eager\\function.py:1963\u001b[0m, in \u001b[0;36mConcreteFunction._call_flat\u001b[1;34m(self, args, captured_inputs, cancellation_manager)\u001b[0m\n\u001b[0;32m   1959\u001b[0m possible_gradient_type \u001b[39m=\u001b[39m gradients_util\u001b[39m.\u001b[39mPossibleTapeGradientTypes(args)\n\u001b[0;32m   1960\u001b[0m \u001b[39mif\u001b[39;00m (possible_gradient_type \u001b[39m==\u001b[39m gradients_util\u001b[39m.\u001b[39mPOSSIBLE_GRADIENT_TYPES_NONE\n\u001b[0;32m   1961\u001b[0m     \u001b[39mand\u001b[39;00m executing_eagerly):\n\u001b[0;32m   1962\u001b[0m   \u001b[39m# No tape is watching; skip to running the function.\u001b[39;00m\n\u001b[1;32m-> 1963\u001b[0m   \u001b[39mreturn\u001b[39;00m \u001b[39mself\u001b[39m\u001b[39m.\u001b[39m_build_call_outputs(\u001b[39mself\u001b[39;49m\u001b[39m.\u001b[39;49m_inference_function\u001b[39m.\u001b[39;49mcall(\n\u001b[0;32m   1964\u001b[0m       ctx, args, cancellation_manager\u001b[39m=\u001b[39;49mcancellation_manager))\n\u001b[0;32m   1965\u001b[0m forward_backward \u001b[39m=\u001b[39m \u001b[39mself\u001b[39m\u001b[39m.\u001b[39m_select_forward_and_backward_functions(\n\u001b[0;32m   1966\u001b[0m     args,\n\u001b[0;32m   1967\u001b[0m     possible_gradient_type,\n\u001b[0;32m   1968\u001b[0m     executing_eagerly)\n\u001b[0;32m   1969\u001b[0m forward_function, args_with_tangents \u001b[39m=\u001b[39m forward_backward\u001b[39m.\u001b[39mforward()\n",
      "File \u001b[1;32mc:\\Users\\Legion\\.conda\\envs\\tf26\\lib\\site-packages\\tensorflow\\python\\eager\\function.py:591\u001b[0m, in \u001b[0;36m_EagerDefinedFunction.call\u001b[1;34m(self, ctx, args, cancellation_manager)\u001b[0m\n\u001b[0;32m    589\u001b[0m \u001b[39mwith\u001b[39;00m _InterpolateFunctionError(\u001b[39mself\u001b[39m):\n\u001b[0;32m    590\u001b[0m   \u001b[39mif\u001b[39;00m cancellation_manager \u001b[39mis\u001b[39;00m \u001b[39mNone\u001b[39;00m:\n\u001b[1;32m--> 591\u001b[0m     outputs \u001b[39m=\u001b[39m execute\u001b[39m.\u001b[39;49mexecute(\n\u001b[0;32m    592\u001b[0m         \u001b[39mstr\u001b[39;49m(\u001b[39mself\u001b[39;49m\u001b[39m.\u001b[39;49msignature\u001b[39m.\u001b[39;49mname),\n\u001b[0;32m    593\u001b[0m         num_outputs\u001b[39m=\u001b[39;49m\u001b[39mself\u001b[39;49m\u001b[39m.\u001b[39;49m_num_outputs,\n\u001b[0;32m    594\u001b[0m         inputs\u001b[39m=\u001b[39;49margs,\n\u001b[0;32m    595\u001b[0m         attrs\u001b[39m=\u001b[39;49mattrs,\n\u001b[0;32m    596\u001b[0m         ctx\u001b[39m=\u001b[39;49mctx)\n\u001b[0;32m    597\u001b[0m   \u001b[39melse\u001b[39;00m:\n\u001b[0;32m    598\u001b[0m     outputs \u001b[39m=\u001b[39m execute\u001b[39m.\u001b[39mexecute_with_cancellation(\n\u001b[0;32m    599\u001b[0m         \u001b[39mstr\u001b[39m(\u001b[39mself\u001b[39m\u001b[39m.\u001b[39msignature\u001b[39m.\u001b[39mname),\n\u001b[0;32m    600\u001b[0m         num_outputs\u001b[39m=\u001b[39m\u001b[39mself\u001b[39m\u001b[39m.\u001b[39m_num_outputs,\n\u001b[1;32m   (...)\u001b[0m\n\u001b[0;32m    603\u001b[0m         ctx\u001b[39m=\u001b[39mctx,\n\u001b[0;32m    604\u001b[0m         cancellation_manager\u001b[39m=\u001b[39mcancellation_manager)\n",
      "File \u001b[1;32mc:\\Users\\Legion\\.conda\\envs\\tf26\\lib\\site-packages\\tensorflow\\python\\eager\\execute.py:59\u001b[0m, in \u001b[0;36mquick_execute\u001b[1;34m(op_name, num_outputs, inputs, attrs, ctx, name)\u001b[0m\n\u001b[0;32m     57\u001b[0m \u001b[39mtry\u001b[39;00m:\n\u001b[0;32m     58\u001b[0m   ctx\u001b[39m.\u001b[39mensure_initialized()\n\u001b[1;32m---> 59\u001b[0m   tensors \u001b[39m=\u001b[39m pywrap_tfe\u001b[39m.\u001b[39;49mTFE_Py_Execute(ctx\u001b[39m.\u001b[39;49m_handle, device_name, op_name,\n\u001b[0;32m     60\u001b[0m                                       inputs, attrs, num_outputs)\n\u001b[0;32m     61\u001b[0m \u001b[39mexcept\u001b[39;00m core\u001b[39m.\u001b[39m_NotOkStatusException \u001b[39mas\u001b[39;00m e:\n\u001b[0;32m     62\u001b[0m   \u001b[39mif\u001b[39;00m name \u001b[39mis\u001b[39;00m \u001b[39mnot\u001b[39;00m \u001b[39mNone\u001b[39;00m:\n",
      "\u001b[1;31mKeyboardInterrupt\u001b[0m: "
     ]
    }
   ],
   "source": [
    "model_wof=Sequential()\n",
    "model_wof.add(LSTM(10,input_shape=(None,1),activation=\"relu\"))\n",
    "model_wof.add(Dense(1))\n",
    "model_wof.compile(loss=\"mean_squared_error\",optimizer=\"sgd\")\n",
    "history = model_wof.fit(\n",
    "                    X_train_wof,\n",
    "                    y_train_wof,\n",
    "                    validation_data=(X_test_wof,y_test_wof),\n",
    "                    epochs=200,\n",
    "                    batch_size=32,\n",
    "                    verbose=1\n",
    "                    )\n",
    "model_wof.evaluate(X_test_wof, y_test_wof)"
   ]
  },
  {
   "cell_type": "code",
   "execution_count": null,
   "metadata": {},
   "outputs": [],
   "source": [
    "# plot history\n",
    "plt.plot(history.history['loss'], label='train')\n",
    "plt.plot(history.history['val_loss'], label='test')\n",
    "plt.legend()\n",
    "plt.show()"
   ]
  },
  {
   "cell_type": "markdown",
   "metadata": {},
   "source": [
    "# With Features"
   ]
  },
  {
   "cell_type": "code",
   "execution_count": 6,
   "metadata": {},
   "outputs": [
    {
     "data": {
      "text/html": [
       "<div>\n",
       "<style scoped>\n",
       "    .dataframe tbody tr th:only-of-type {\n",
       "        vertical-align: middle;\n",
       "    }\n",
       "\n",
       "    .dataframe tbody tr th {\n",
       "        vertical-align: top;\n",
       "    }\n",
       "\n",
       "    .dataframe thead th {\n",
       "        text-align: right;\n",
       "    }\n",
       "</style>\n",
       "<table border=\"1\" class=\"dataframe\">\n",
       "  <thead>\n",
       "    <tr style=\"text-align: right;\">\n",
       "      <th></th>\n",
       "      <th>Date</th>\n",
       "      <th>Open</th>\n",
       "      <th>High</th>\n",
       "      <th>Low</th>\n",
       "      <th>Close</th>\n",
       "    </tr>\n",
       "  </thead>\n",
       "  <tbody>\n",
       "    <tr>\n",
       "      <th>1150</th>\n",
       "      <td>2021-01-02</td>\n",
       "      <td>730.402649</td>\n",
       "      <td>786.798462</td>\n",
       "      <td>718.109497</td>\n",
       "      <td>774.534973</td>\n",
       "    </tr>\n",
       "    <tr>\n",
       "      <th>1151</th>\n",
       "      <td>2021-01-03</td>\n",
       "      <td>774.511841</td>\n",
       "      <td>1006.565002</td>\n",
       "      <td>771.561646</td>\n",
       "      <td>975.507690</td>\n",
       "    </tr>\n",
       "    <tr>\n",
       "      <th>1152</th>\n",
       "      <td>2021-01-04</td>\n",
       "      <td>977.058838</td>\n",
       "      <td>1153.189209</td>\n",
       "      <td>912.305359</td>\n",
       "      <td>1040.233032</td>\n",
       "    </tr>\n",
       "    <tr>\n",
       "      <th>1153</th>\n",
       "      <td>2021-01-05</td>\n",
       "      <td>1041.498779</td>\n",
       "      <td>1129.371460</td>\n",
       "      <td>986.811279</td>\n",
       "      <td>1100.006104</td>\n",
       "    </tr>\n",
       "    <tr>\n",
       "      <th>1154</th>\n",
       "      <td>2021-01-06</td>\n",
       "      <td>1101.005005</td>\n",
       "      <td>1209.428589</td>\n",
       "      <td>1064.233398</td>\n",
       "      <td>1207.112183</td>\n",
       "    </tr>\n",
       "    <tr>\n",
       "      <th>...</th>\n",
       "      <td>...</td>\n",
       "      <td>...</td>\n",
       "      <td>...</td>\n",
       "      <td>...</td>\n",
       "      <td>...</td>\n",
       "    </tr>\n",
       "    <tr>\n",
       "      <th>1801</th>\n",
       "      <td>2022-10-15</td>\n",
       "      <td>1297.305908</td>\n",
       "      <td>1300.745972</td>\n",
       "      <td>1268.468506</td>\n",
       "      <td>1274.871704</td>\n",
       "    </tr>\n",
       "    <tr>\n",
       "      <th>1802</th>\n",
       "      <td>2022-10-16</td>\n",
       "      <td>1275.005493</td>\n",
       "      <td>1312.634521</td>\n",
       "      <td>1275.005493</td>\n",
       "      <td>1306.296631</td>\n",
       "    </tr>\n",
       "    <tr>\n",
       "      <th>1803</th>\n",
       "      <td>2022-10-17</td>\n",
       "      <td>1306.309570</td>\n",
       "      <td>1335.647827</td>\n",
       "      <td>1297.447266</td>\n",
       "      <td>1331.713623</td>\n",
       "    </tr>\n",
       "    <tr>\n",
       "      <th>1804</th>\n",
       "      <td>2022-10-18</td>\n",
       "      <td>1331.669922</td>\n",
       "      <td>1339.085938</td>\n",
       "      <td>1291.660645</td>\n",
       "      <td>1310.447021</td>\n",
       "    </tr>\n",
       "    <tr>\n",
       "      <th>1805</th>\n",
       "      <td>2022-10-19</td>\n",
       "      <td>1311.808594</td>\n",
       "      <td>1312.430908</td>\n",
       "      <td>1294.931396</td>\n",
       "      <td>1297.278198</td>\n",
       "    </tr>\n",
       "  </tbody>\n",
       "</table>\n",
       "<p>656 rows × 5 columns</p>\n",
       "</div>"
      ],
      "text/plain": [
       "           Date         Open         High          Low        Close\n",
       "1150 2021-01-02   730.402649   786.798462   718.109497   774.534973\n",
       "1151 2021-01-03   774.511841  1006.565002   771.561646   975.507690\n",
       "1152 2021-01-04   977.058838  1153.189209   912.305359  1040.233032\n",
       "1153 2021-01-05  1041.498779  1129.371460   986.811279  1100.006104\n",
       "1154 2021-01-06  1101.005005  1209.428589  1064.233398  1207.112183\n",
       "...         ...          ...          ...          ...          ...\n",
       "1801 2022-10-15  1297.305908  1300.745972  1268.468506  1274.871704\n",
       "1802 2022-10-16  1275.005493  1312.634521  1275.005493  1306.296631\n",
       "1803 2022-10-17  1306.309570  1335.647827  1297.447266  1331.713623\n",
       "1804 2022-10-18  1331.669922  1339.085938  1291.660645  1310.447021\n",
       "1805 2022-10-19  1311.808594  1312.430908  1294.931396  1297.278198\n",
       "\n",
       "[656 rows x 5 columns]"
      ]
     },
     "execution_count": 6,
     "metadata": {},
     "output_type": "execute_result"
    }
   ],
   "source": [
    "df_eth = pd.read_csv('ETH.csv')\n",
    "df_eth['Date'] = pd.to_datetime(df_eth['Date'])\n",
    "df_eth = df_eth[['Date','Open','High','Low','Close']]\n",
    "df_eth = df_eth[df_eth['Date'] > '2021-01-01']\n",
    "df_eth = df_eth.dropna()\n",
    "eth_stock = df_eth.copy()\n",
    "eth_stock"
   ]
  },
  {
   "cell_type": "code",
   "execution_count": 7,
   "metadata": {},
   "outputs": [],
   "source": [
    "del df_eth['Date']\n",
    "scaler = MinMaxScaler(feature_range=(0,1))\n",
    "df_eth = scaler.fit_transform(df_eth)\n",
    "\n",
    "with open('scaler ETH.pkl', 'wb') as f:\n",
    "    pickle.dump(scaler, f)"
   ]
  },
  {
   "cell_type": "code",
   "execution_count": null,
   "metadata": {},
   "outputs": [],
   "source": [
    "# split dataset into train and test split\n",
    "training_size = int(len(df_eth)*0.8)\n",
    "test_size = len(df_eth) - training_size\n",
    "\n",
    "train_data, test_data = df_eth[0:training_size,:], df_eth[training_size:len(df_eth),]"
   ]
  },
  {
   "cell_type": "code",
   "execution_count": null,
   "metadata": {},
   "outputs": [],
   "source": [
    "def create_dataset(dataset, time_step=1):\n",
    "    dataX, dataY = [], []\n",
    "    for i in range(len(dataset)-time_step-1):\n",
    "        a = dataset[i:(i+time_step), :]\n",
    "        dataX.append(a)\n",
    "        dataY.append(dataset[i + time_step,-1])\n",
    "    return np.array(dataX), np.array(dataY)"
   ]
  },
  {
   "cell_type": "code",
   "execution_count": null,
   "metadata": {},
   "outputs": [],
   "source": [
    "time_step = 15\n",
    "X_train_wf, y_train_wf = create_dataset(train_data, time_step)\n",
    "X_test_wf, y_test_wf = create_dataset(test_data, time_step)\n",
    "\n",
    "print(\"X_train: \", X_train_wf.shape)\n",
    "print(\"y_train: \", y_train_wf.shape)\n",
    "print(\"X_test: \", X_test_wf.shape)\n",
    "print(\"y_test: \", y_test_wf.shape)"
   ]
  },
  {
   "cell_type": "code",
   "execution_count": null,
   "metadata": {},
   "outputs": [],
   "source": [
    "model_wf=Sequential()\n",
    "model_wf.add(LSTM(10,input_shape=(None,4),activation=\"relu\"))\n",
    "model_wf.add(Dense(1))\n",
    "model_wf.compile(loss=\"mean_squared_error\",optimizer=\"adam\")\n",
    "history = model_wf.fit(\n",
    "                    X_train_wf,\n",
    "                    y_train_wf,\n",
    "                    validation_data=(X_test_wf,y_test_wf),\n",
    "                    epochs=200,\n",
    "                    batch_size=32,\n",
    "                    verbose=1\n",
    "                    )\n",
    "model_wf.evaluate(X_test_wf, y_test_wf)"
   ]
  },
  {
   "cell_type": "code",
   "execution_count": null,
   "metadata": {},
   "outputs": [],
   "source": [
    "# plot history\n",
    "plt.plot(history.history['loss'], label='train')\n",
    "plt.plot(history.history['val_loss'], label='test')\n",
    "plt.legend()\n",
    "plt.show()"
   ]
  },
  {
   "cell_type": "code",
   "execution_count": null,
   "metadata": {},
   "outputs": [],
   "source": [
    "model_wf.save('model_wf ETH.h5')\n",
    "model_wof.save('model_wof ETH.h5')"
   ]
  },
  {
   "cell_type": "code",
   "execution_count": null,
   "metadata": {},
   "outputs": [],
   "source": []
  }
 ],
 "metadata": {
  "kernelspec": {
   "display_name": "Python 3 (ipykernel)",
   "language": "python",
   "name": "python3"
  },
  "language_info": {
   "codemirror_mode": {
    "name": "ipython",
    "version": 3
   },
   "file_extension": ".py",
   "mimetype": "text/x-python",
   "name": "python",
   "nbconvert_exporter": "python",
   "pygments_lexer": "ipython3",
   "version": "3.7.16"
  },
  "vscode": {
   "interpreter": {
    "hash": "d4b521e29a846470c96e928a1c4aafac58a12234cdaa98f9ca60bc431873fee6"
   }
  }
 },
 "nbformat": 4,
 "nbformat_minor": 2
}
